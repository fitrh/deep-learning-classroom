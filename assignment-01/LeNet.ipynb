{
  "nbformat": 4,
  "nbformat_minor": 0,
  "metadata": {
    "colab": {
      "name": "LeNet.ipynb",
      "provenance": []
    },
    "kernelspec": {
      "name": "python3",
      "display_name": "Python 3"
    },
    "accelerator": "GPU"
  },
  "cells": [
    {
      "cell_type": "code",
      "metadata": {
        "id": "RCPT-xmMKmF3",
        "colab_type": "code",
        "colab": {}
      },
      "source": [
        "from keras.datasets import mnist\n",
        "from keras.utils import np_utils\n",
        "\n",
        "# Load dataset as train and test sets\n",
        "(x_train, y_train), (x_test, y_test) = mnist.load_data()\n",
        "\n",
        "# Set numeric type to float32 from uint8\n",
        "x_train = x_train.astype('float32')\n",
        "x_test = x_test.astype('float32')\n",
        "\n",
        "# Normalize value to [0, 1]\n",
        "x_train /= 255\n",
        "x_test /= 255\n",
        "\n",
        "# Transform lables to one-hot encoding\n",
        "y_train = np_utils.to_categorical(y_train, 10)\n",
        "y_test = np_utils.to_categorical(y_test, 10)\n",
        "\n",
        "# Reshape the dataset into 4D array\n",
        "x_train = x_train.reshape(x_train.shape[0], 28,28,1)\n",
        "x_test = x_test.reshape(x_test.shape[0], 28,28,1) "
      ],
      "execution_count": 0,
      "outputs": []
    },
    {
      "cell_type": "code",
      "metadata": {
        "id": "EeXpStVTMcPx",
        "colab_type": "code",
        "colab": {}
      },
      "source": [
        "from keras.models import Sequential\n",
        "from keras import models, layers\n",
        "import keras\n",
        "\n",
        "#Instantiate an empty model\n",
        "model = Sequential()\n",
        "\n",
        "# C1 Convolutional Layer\n",
        "model.add(layers.Conv2D(6, kernel_size=(5, 5), strides=(1, 1), activation='tanh', input_shape=(28,28,1), padding=\"same\"))\n",
        "\n",
        "# S2 Pooling Layer\n",
        "model.add(layers.AveragePooling2D(pool_size=(2, 2), strides=(1, 1), padding='valid'))\n",
        "\n",
        "# C3 Convolutional Layer\n",
        "model.add(layers.Conv2D(16, kernel_size=(5, 5), strides=(1, 1), activation='tanh', padding='valid'))\n",
        "\n",
        "# S4 Pooling Layer\n",
        "model.add(layers.AveragePooling2D(pool_size=(2, 2), strides=(2, 2), padding='valid'))\n",
        "\n",
        "# C5 Fully Connected Convolutional Layer\n",
        "model.add(layers.Conv2D(120, kernel_size=(5, 5), strides=(1, 1), activation='tanh', padding='valid'))\n",
        "#Flatten the CNN output so that we can connect it with fully connected layers\n",
        "model.add(layers.Flatten())\n",
        "\n",
        "# FC6 Fully Connected Layer\n",
        "model.add(layers.Dense(84, activation='tanh'))\n",
        "\n",
        "#Output Layer with softmax activation\n",
        "model.add(layers.Dense(10, activation='softmax'))\n",
        "\n",
        "# Compile the model\n",
        "model.compile(loss=keras.losses.categorical_crossentropy, optimizer='SGD', metrics=[\"accuracy\"])"
      ],
      "execution_count": 0,
      "outputs": []
    },
    {
      "cell_type": "code",
      "metadata": {
        "id": "sZDYyIiiNGdr",
        "colab_type": "code",
        "outputId": "ca4f34d6-2cd5-4ba4-9960-27ec5397f00c",
        "colab": {
          "base_uri": "https://localhost:8080/",
          "height": 1000
        }
      },
      "source": [
        "hist = model.fit(x=x_train,y=y_train, epochs=100, batch_size=128, validation_data=(x_test, y_test), verbose=1)"
      ],
      "execution_count": 0,
      "outputs": [
        {
          "output_type": "stream",
          "text": [
            "Train on 60000 samples, validate on 10000 samples\n",
            "Epoch 1/100\n",
            "60000/60000 [==============================] - 3s 49us/step - loss: 0.6772 - acc: 0.8270 - val_loss: 0.3418 - val_acc: 0.9043\n",
            "Epoch 2/100\n",
            "60000/60000 [==============================] - 3s 44us/step - loss: 0.3176 - acc: 0.9081 - val_loss: 0.2658 - val_acc: 0.9249\n",
            "Epoch 3/100\n",
            "60000/60000 [==============================] - 3s 44us/step - loss: 0.2584 - acc: 0.9254 - val_loss: 0.2257 - val_acc: 0.9364\n",
            "Epoch 4/100\n",
            "60000/60000 [==============================] - 3s 44us/step - loss: 0.2218 - acc: 0.9358 - val_loss: 0.1980 - val_acc: 0.9426\n",
            "Epoch 5/100\n",
            "60000/60000 [==============================] - 3s 44us/step - loss: 0.1961 - acc: 0.9435 - val_loss: 0.1758 - val_acc: 0.9497\n",
            "Epoch 6/100\n",
            "60000/60000 [==============================] - 3s 44us/step - loss: 0.1759 - acc: 0.9496 - val_loss: 0.1632 - val_acc: 0.9547\n",
            "Epoch 7/100\n",
            "60000/60000 [==============================] - 3s 43us/step - loss: 0.1601 - acc: 0.9543 - val_loss: 0.1472 - val_acc: 0.9579\n",
            "Epoch 8/100\n",
            "60000/60000 [==============================] - 3s 43us/step - loss: 0.1468 - acc: 0.9584 - val_loss: 0.1363 - val_acc: 0.9605\n",
            "Epoch 9/100\n",
            "60000/60000 [==============================] - 3s 43us/step - loss: 0.1353 - acc: 0.9617 - val_loss: 0.1265 - val_acc: 0.9634\n",
            "Epoch 10/100\n",
            "60000/60000 [==============================] - 3s 43us/step - loss: 0.1253 - acc: 0.9645 - val_loss: 0.1189 - val_acc: 0.9646\n",
            "Epoch 11/100\n",
            "60000/60000 [==============================] - 3s 43us/step - loss: 0.1164 - acc: 0.9674 - val_loss: 0.1112 - val_acc: 0.9685\n",
            "Epoch 12/100\n",
            "60000/60000 [==============================] - 3s 43us/step - loss: 0.1085 - acc: 0.9698 - val_loss: 0.1055 - val_acc: 0.9688\n",
            "Epoch 13/100\n",
            "60000/60000 [==============================] - 3s 44us/step - loss: 0.1015 - acc: 0.9715 - val_loss: 0.0987 - val_acc: 0.9712\n",
            "Epoch 14/100\n",
            "60000/60000 [==============================] - 3s 45us/step - loss: 0.0952 - acc: 0.9741 - val_loss: 0.0925 - val_acc: 0.9730\n",
            "Epoch 15/100\n",
            "60000/60000 [==============================] - 3s 43us/step - loss: 0.0894 - acc: 0.9756 - val_loss: 0.0879 - val_acc: 0.9751\n",
            "Epoch 16/100\n",
            "60000/60000 [==============================] - 3s 43us/step - loss: 0.0843 - acc: 0.9773 - val_loss: 0.0834 - val_acc: 0.9761\n",
            "Epoch 17/100\n",
            "60000/60000 [==============================] - 3s 44us/step - loss: 0.0797 - acc: 0.9787 - val_loss: 0.0793 - val_acc: 0.9769\n",
            "Epoch 18/100\n",
            "60000/60000 [==============================] - 3s 44us/step - loss: 0.0754 - acc: 0.9800 - val_loss: 0.0761 - val_acc: 0.9777\n",
            "Epoch 19/100\n",
            "60000/60000 [==============================] - 3s 43us/step - loss: 0.0715 - acc: 0.9811 - val_loss: 0.0753 - val_acc: 0.9780\n",
            "Epoch 20/100\n",
            "60000/60000 [==============================] - 3s 47us/step - loss: 0.0682 - acc: 0.9816 - val_loss: 0.0702 - val_acc: 0.9787\n",
            "Epoch 21/100\n",
            "60000/60000 [==============================] - 3s 44us/step - loss: 0.0649 - acc: 0.9828 - val_loss: 0.0674 - val_acc: 0.9798\n",
            "Epoch 22/100\n",
            "60000/60000 [==============================] - 3s 43us/step - loss: 0.0619 - acc: 0.9838 - val_loss: 0.0665 - val_acc: 0.9801\n",
            "Epoch 23/100\n",
            "60000/60000 [==============================] - 3s 43us/step - loss: 0.0592 - acc: 0.9843 - val_loss: 0.0634 - val_acc: 0.9817\n",
            "Epoch 24/100\n",
            "60000/60000 [==============================] - 3s 43us/step - loss: 0.0567 - acc: 0.9854 - val_loss: 0.0622 - val_acc: 0.9818\n",
            "Epoch 25/100\n",
            "60000/60000 [==============================] - 3s 43us/step - loss: 0.0544 - acc: 0.9858 - val_loss: 0.0593 - val_acc: 0.9816\n",
            "Epoch 26/100\n",
            "60000/60000 [==============================] - 3s 43us/step - loss: 0.0523 - acc: 0.9859 - val_loss: 0.0580 - val_acc: 0.9822\n",
            "Epoch 27/100\n",
            "60000/60000 [==============================] - 3s 43us/step - loss: 0.0503 - acc: 0.9869 - val_loss: 0.0569 - val_acc: 0.9827\n",
            "Epoch 28/100\n",
            "60000/60000 [==============================] - 3s 43us/step - loss: 0.0483 - acc: 0.9877 - val_loss: 0.0557 - val_acc: 0.9825\n",
            "Epoch 29/100\n",
            "60000/60000 [==============================] - 3s 45us/step - loss: 0.0467 - acc: 0.9878 - val_loss: 0.0548 - val_acc: 0.9832\n",
            "Epoch 30/100\n",
            "60000/60000 [==============================] - 3s 43us/step - loss: 0.0451 - acc: 0.9881 - val_loss: 0.0530 - val_acc: 0.9833\n",
            "Epoch 31/100\n",
            "60000/60000 [==============================] - 3s 43us/step - loss: 0.0434 - acc: 0.9889 - val_loss: 0.0513 - val_acc: 0.9836\n",
            "Epoch 32/100\n",
            "60000/60000 [==============================] - 3s 43us/step - loss: 0.0420 - acc: 0.9892 - val_loss: 0.0519 - val_acc: 0.9832\n",
            "Epoch 33/100\n",
            "60000/60000 [==============================] - 3s 43us/step - loss: 0.0407 - acc: 0.9897 - val_loss: 0.0500 - val_acc: 0.9833\n",
            "Epoch 34/100\n",
            "60000/60000 [==============================] - 3s 43us/step - loss: 0.0393 - acc: 0.9900 - val_loss: 0.0487 - val_acc: 0.9835\n",
            "Epoch 35/100\n",
            "60000/60000 [==============================] - 3s 43us/step - loss: 0.0382 - acc: 0.9903 - val_loss: 0.0480 - val_acc: 0.9833\n",
            "Epoch 36/100\n",
            "60000/60000 [==============================] - 3s 43us/step - loss: 0.0370 - acc: 0.9905 - val_loss: 0.0471 - val_acc: 0.9844\n",
            "Epoch 37/100\n",
            "60000/60000 [==============================] - 3s 44us/step - loss: 0.0359 - acc: 0.9909 - val_loss: 0.0459 - val_acc: 0.9842\n",
            "Epoch 38/100\n",
            "60000/60000 [==============================] - 3s 43us/step - loss: 0.0349 - acc: 0.9914 - val_loss: 0.0454 - val_acc: 0.9837\n",
            "Epoch 39/100\n",
            "60000/60000 [==============================] - 3s 44us/step - loss: 0.0339 - acc: 0.9915 - val_loss: 0.0455 - val_acc: 0.9837\n",
            "Epoch 40/100\n",
            "60000/60000 [==============================] - 3s 45us/step - loss: 0.0329 - acc: 0.9923 - val_loss: 0.0449 - val_acc: 0.9844\n",
            "Epoch 41/100\n",
            "60000/60000 [==============================] - 3s 44us/step - loss: 0.0321 - acc: 0.9922 - val_loss: 0.0437 - val_acc: 0.9846\n",
            "Epoch 42/100\n",
            "60000/60000 [==============================] - 3s 45us/step - loss: 0.0312 - acc: 0.9924 - val_loss: 0.0436 - val_acc: 0.9846\n",
            "Epoch 43/100\n",
            "60000/60000 [==============================] - 3s 46us/step - loss: 0.0303 - acc: 0.9927 - val_loss: 0.0427 - val_acc: 0.9841\n",
            "Epoch 44/100\n",
            "60000/60000 [==============================] - 3s 43us/step - loss: 0.0295 - acc: 0.9932 - val_loss: 0.0424 - val_acc: 0.9844\n",
            "Epoch 45/100\n",
            "60000/60000 [==============================] - 3s 43us/step - loss: 0.0289 - acc: 0.9931 - val_loss: 0.0421 - val_acc: 0.9848\n",
            "Epoch 46/100\n",
            "60000/60000 [==============================] - 3s 43us/step - loss: 0.0281 - acc: 0.9935 - val_loss: 0.0413 - val_acc: 0.9856\n",
            "Epoch 47/100\n",
            "60000/60000 [==============================] - 3s 43us/step - loss: 0.0273 - acc: 0.9938 - val_loss: 0.0417 - val_acc: 0.9853\n",
            "Epoch 48/100\n",
            "60000/60000 [==============================] - 3s 43us/step - loss: 0.0267 - acc: 0.9939 - val_loss: 0.0410 - val_acc: 0.9853\n",
            "Epoch 49/100\n",
            "60000/60000 [==============================] - 3s 43us/step - loss: 0.0260 - acc: 0.9939 - val_loss: 0.0403 - val_acc: 0.9860\n",
            "Epoch 50/100\n",
            "60000/60000 [==============================] - 3s 43us/step - loss: 0.0254 - acc: 0.9941 - val_loss: 0.0399 - val_acc: 0.9854\n",
            "Epoch 51/100\n",
            "60000/60000 [==============================] - 3s 44us/step - loss: 0.0248 - acc: 0.9942 - val_loss: 0.0398 - val_acc: 0.9856\n",
            "Epoch 52/100\n",
            "60000/60000 [==============================] - 3s 44us/step - loss: 0.0243 - acc: 0.9944 - val_loss: 0.0393 - val_acc: 0.9860\n",
            "Epoch 53/100\n",
            "60000/60000 [==============================] - 3s 43us/step - loss: 0.0236 - acc: 0.9946 - val_loss: 0.0393 - val_acc: 0.9856\n",
            "Epoch 54/100\n",
            "60000/60000 [==============================] - 3s 43us/step - loss: 0.0231 - acc: 0.9949 - val_loss: 0.0384 - val_acc: 0.9866\n",
            "Epoch 55/100\n",
            "60000/60000 [==============================] - 3s 44us/step - loss: 0.0227 - acc: 0.9948 - val_loss: 0.0380 - val_acc: 0.9860\n",
            "Epoch 56/100\n",
            "60000/60000 [==============================] - 3s 43us/step - loss: 0.0221 - acc: 0.9949 - val_loss: 0.0385 - val_acc: 0.9856\n",
            "Epoch 57/100\n",
            "60000/60000 [==============================] - 3s 43us/step - loss: 0.0216 - acc: 0.9953 - val_loss: 0.0377 - val_acc: 0.9867\n",
            "Epoch 58/100\n",
            "60000/60000 [==============================] - 3s 43us/step - loss: 0.0211 - acc: 0.9952 - val_loss: 0.0372 - val_acc: 0.9863\n",
            "Epoch 59/100\n",
            "60000/60000 [==============================] - 3s 43us/step - loss: 0.0206 - acc: 0.9954 - val_loss: 0.0373 - val_acc: 0.9863\n",
            "Epoch 60/100\n",
            "60000/60000 [==============================] - 3s 45us/step - loss: 0.0202 - acc: 0.9955 - val_loss: 0.0369 - val_acc: 0.9865\n",
            "Epoch 61/100\n",
            "60000/60000 [==============================] - 3s 43us/step - loss: 0.0197 - acc: 0.9956 - val_loss: 0.0365 - val_acc: 0.9872\n",
            "Epoch 62/100\n",
            "60000/60000 [==============================] - 3s 43us/step - loss: 0.0193 - acc: 0.9957 - val_loss: 0.0362 - val_acc: 0.9867\n",
            "Epoch 63/100\n",
            "60000/60000 [==============================] - 3s 43us/step - loss: 0.0189 - acc: 0.9958 - val_loss: 0.0357 - val_acc: 0.9872\n",
            "Epoch 64/100\n",
            "60000/60000 [==============================] - 3s 43us/step - loss: 0.0185 - acc: 0.9960 - val_loss: 0.0357 - val_acc: 0.9869\n",
            "Epoch 65/100\n",
            "60000/60000 [==============================] - 3s 43us/step - loss: 0.0181 - acc: 0.9961 - val_loss: 0.0363 - val_acc: 0.9872\n",
            "Epoch 66/100\n",
            "60000/60000 [==============================] - 3s 46us/step - loss: 0.0177 - acc: 0.9963 - val_loss: 0.0357 - val_acc: 0.9873\n",
            "Epoch 67/100\n",
            "60000/60000 [==============================] - 3s 44us/step - loss: 0.0174 - acc: 0.9961 - val_loss: 0.0355 - val_acc: 0.9875\n",
            "Epoch 68/100\n",
            "60000/60000 [==============================] - 3s 44us/step - loss: 0.0170 - acc: 0.9964 - val_loss: 0.0355 - val_acc: 0.9873\n",
            "Epoch 69/100\n",
            "60000/60000 [==============================] - 3s 44us/step - loss: 0.0167 - acc: 0.9966 - val_loss: 0.0354 - val_acc: 0.9872\n",
            "Epoch 70/100\n",
            "60000/60000 [==============================] - 3s 43us/step - loss: 0.0164 - acc: 0.9965 - val_loss: 0.0348 - val_acc: 0.9867\n",
            "Epoch 71/100\n",
            "60000/60000 [==============================] - 3s 43us/step - loss: 0.0160 - acc: 0.9970 - val_loss: 0.0349 - val_acc: 0.9868\n",
            "Epoch 72/100\n",
            "60000/60000 [==============================] - 3s 43us/step - loss: 0.0157 - acc: 0.9969 - val_loss: 0.0344 - val_acc: 0.9872\n",
            "Epoch 73/100\n",
            "60000/60000 [==============================] - 3s 43us/step - loss: 0.0154 - acc: 0.9969 - val_loss: 0.0343 - val_acc: 0.9873\n",
            "Epoch 74/100\n",
            "60000/60000 [==============================] - 3s 43us/step - loss: 0.0151 - acc: 0.9970 - val_loss: 0.0340 - val_acc: 0.9874\n",
            "Epoch 75/100\n",
            "60000/60000 [==============================] - 3s 45us/step - loss: 0.0148 - acc: 0.9972 - val_loss: 0.0339 - val_acc: 0.9873\n",
            "Epoch 76/100\n",
            "60000/60000 [==============================] - 3s 43us/step - loss: 0.0145 - acc: 0.9972 - val_loss: 0.0336 - val_acc: 0.9870\n",
            "Epoch 77/100\n",
            "60000/60000 [==============================] - 3s 43us/step - loss: 0.0142 - acc: 0.9972 - val_loss: 0.0341 - val_acc: 0.9875\n",
            "Epoch 78/100\n",
            "60000/60000 [==============================] - 3s 44us/step - loss: 0.0139 - acc: 0.9974 - val_loss: 0.0333 - val_acc: 0.9874\n",
            "Epoch 79/100\n",
            "60000/60000 [==============================] - 3s 43us/step - loss: 0.0137 - acc: 0.9975 - val_loss: 0.0332 - val_acc: 0.9875\n",
            "Epoch 80/100\n",
            "60000/60000 [==============================] - 3s 44us/step - loss: 0.0135 - acc: 0.9974 - val_loss: 0.0335 - val_acc: 0.9879\n",
            "Epoch 81/100\n",
            "60000/60000 [==============================] - 3s 44us/step - loss: 0.0132 - acc: 0.9975 - val_loss: 0.0330 - val_acc: 0.9874\n",
            "Epoch 82/100\n",
            "60000/60000 [==============================] - 3s 43us/step - loss: 0.0129 - acc: 0.9977 - val_loss: 0.0332 - val_acc: 0.9876\n",
            "Epoch 83/100\n",
            "60000/60000 [==============================] - 3s 44us/step - loss: 0.0127 - acc: 0.9978 - val_loss: 0.0329 - val_acc: 0.9883\n",
            "Epoch 84/100\n",
            "60000/60000 [==============================] - 3s 43us/step - loss: 0.0125 - acc: 0.9978 - val_loss: 0.0332 - val_acc: 0.9879\n",
            "Epoch 85/100\n",
            "60000/60000 [==============================] - 3s 43us/step - loss: 0.0122 - acc: 0.9979 - val_loss: 0.0327 - val_acc: 0.9882\n",
            "Epoch 86/100\n",
            "60000/60000 [==============================] - 3s 43us/step - loss: 0.0120 - acc: 0.9979 - val_loss: 0.0326 - val_acc: 0.9881\n",
            "Epoch 87/100\n",
            "60000/60000 [==============================] - 3s 43us/step - loss: 0.0117 - acc: 0.9980 - val_loss: 0.0325 - val_acc: 0.9880\n",
            "Epoch 88/100\n",
            "60000/60000 [==============================] - 3s 43us/step - loss: 0.0116 - acc: 0.9981 - val_loss: 0.0324 - val_acc: 0.9886\n",
            "Epoch 89/100\n",
            "60000/60000 [==============================] - 3s 45us/step - loss: 0.0114 - acc: 0.9980 - val_loss: 0.0324 - val_acc: 0.9883\n",
            "Epoch 90/100\n",
            "60000/60000 [==============================] - 3s 44us/step - loss: 0.0111 - acc: 0.9982 - val_loss: 0.0319 - val_acc: 0.9879\n",
            "Epoch 91/100\n",
            "60000/60000 [==============================] - 3s 43us/step - loss: 0.0110 - acc: 0.9982 - val_loss: 0.0323 - val_acc: 0.9882\n",
            "Epoch 92/100\n",
            "60000/60000 [==============================] - 3s 43us/step - loss: 0.0108 - acc: 0.9983 - val_loss: 0.0327 - val_acc: 0.9884\n",
            "Epoch 93/100\n",
            "60000/60000 [==============================] - 3s 43us/step - loss: 0.0106 - acc: 0.9984 - val_loss: 0.0320 - val_acc: 0.9888\n",
            "Epoch 94/100\n",
            "60000/60000 [==============================] - 3s 43us/step - loss: 0.0104 - acc: 0.9984 - val_loss: 0.0320 - val_acc: 0.9887\n",
            "Epoch 95/100\n",
            "60000/60000 [==============================] - 3s 43us/step - loss: 0.0103 - acc: 0.9984 - val_loss: 0.0323 - val_acc: 0.9881\n",
            "Epoch 96/100\n",
            "60000/60000 [==============================] - 3s 43us/step - loss: 0.0101 - acc: 0.9986 - val_loss: 0.0321 - val_acc: 0.9883\n",
            "Epoch 97/100\n",
            "60000/60000 [==============================] - 3s 43us/step - loss: 0.0100 - acc: 0.9986 - val_loss: 0.0321 - val_acc: 0.9888\n",
            "Epoch 98/100\n",
            "60000/60000 [==============================] - 3s 44us/step - loss: 0.0098 - acc: 0.9986 - val_loss: 0.0316 - val_acc: 0.9884\n",
            "Epoch 99/100\n",
            "60000/60000 [==============================] - 3s 43us/step - loss: 0.0096 - acc: 0.9987 - val_loss: 0.0316 - val_acc: 0.9888\n",
            "Epoch 100/100\n",
            "60000/60000 [==============================] - 3s 43us/step - loss: 0.0094 - acc: 0.9987 - val_loss: 0.0312 - val_acc: 0.9887\n"
          ],
          "name": "stdout"
        }
      ]
    },
    {
      "cell_type": "code",
      "metadata": {
        "id": "HB_rZ-5mRpsK",
        "colab_type": "code",
        "outputId": "8b3a9a69-20b0-4598-e97b-efc7a7ae0f89",
        "colab": {
          "base_uri": "https://localhost:8080/",
          "height": 312
        }
      },
      "source": [
        "import matplotlib.pyplot as plt\n",
        "\n",
        "f, ax = plt.subplots()\n",
        "ax.plot([None] + hist.history['acc'], 'o-')\n",
        "ax.plot([None] + hist.history['val_acc'], 'x-')\n",
        "# Plot legend and use the best location automatically: loc = 0.\n",
        "ax.legend(['Train acc', 'Validation acc'], loc = 0)\n",
        "ax.set_title('Training/Validation acc per Epoch')\n",
        "ax.set_xlabel('Epoch')\n",
        "ax.set_ylabel('acc') "
      ],
      "execution_count": 0,
      "outputs": [
        {
          "output_type": "execute_result",
          "data": {
            "text/plain": [
              "Text(0, 0.5, 'acc')"
            ]
          },
          "metadata": {
            "tags": []
          },
          "execution_count": 11
        },
        {
          "output_type": "display_data",
          "data": {
            "image/png": "[encoded data removed]",
            "text/plain": [
              "<Figure size 432x288 with 1 Axes>"
            ]
          },
          "metadata": {
            "tags": []
          }
        }
      ]
    },
    {
      "cell_type": "code",
      "metadata": {
        "id": "f2B8bXJnSlSa",
        "colab_type": "code",
        "outputId": "11bbeeae-fff4-41a7-da3c-718411c656cd",
        "colab": {
          "base_uri": "https://localhost:8080/",
          "height": 312
        }
      },
      "source": [
        "f, ax = plt.subplots()\n",
        "ax.plot([None] + hist.history['loss'], 'o-')\n",
        "ax.plot([None] + hist.history['val_loss'], 'x-')\n",
        "# Plot legend and use the best location automatically: loc = 0.\n",
        "ax.legend(['Train Loss', 'Validation Loss'], loc = 0)\n",
        "ax.set_title('Training/Validation Loss per Epoch')\n",
        "ax.set_xlabel('Epoch')\n",
        "ax.set_ylabel('Loss') "
      ],
      "execution_count": 0,
      "outputs": [
        {
          "output_type": "execute_result",
          "data": {
            "text/plain": [
              "Text(0, 0.5, 'Loss')"
            ]
          },
          "metadata": {
            "tags": []
          },
          "execution_count": 12
        },
        {
          "output_type": "display_data",
          "data": {
            "image/png": "[encoded data removed]",
            "text/plain": [
              "<Figure size 432x288 with 1 Axes>"
            ]
          },
          "metadata": {
            "tags": []
          }
        }
      ]
    }
  ]
}